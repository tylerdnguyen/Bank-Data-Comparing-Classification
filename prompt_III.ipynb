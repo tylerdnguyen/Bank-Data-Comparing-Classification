{
 "cells": [
  {
   "cell_type": "markdown",
   "metadata": {},
   "source": [
    "# Practical Application III: Comparing Classifiers\n",
    "\n",
    "**Overview**: In this practical application, your goal is to compare the performance of the classifiers we encountered in this section, namely K Nearest Neighbor, Logistic Regression, Decision Trees, and Support Vector Machines.  We will utilize a dataset related to marketing bank products over the telephone.  \n",
    "\n"
   ]
  },
  {
   "cell_type": "markdown",
   "metadata": {},
   "source": [
    "### Getting Started\n",
    "\n",
    "Our dataset comes from the UCI Machine Learning repository [link](https://archive.ics.uci.edu/ml/datasets/bank+marketing).  The data is from a Portugese banking institution and is a collection of the results of multiple marketing campaigns.  We will make use of the article accompanying the dataset [here](CRISP-DM-BANK.pdf) for more information on the data and features.\n",
    "\n"
   ]
  },
  {
   "cell_type": "markdown",
   "metadata": {},
   "source": [
    "### Problem 1: Understanding the Data\n",
    "\n",
    "To gain a better understanding of the data, please read the information provided in the UCI link above, and examine the **Materials and Methods** section of the paper.  How many marketing campaigns does this data represent?"
   ]
  },
  {
   "cell_type": "markdown",
   "metadata": {},
   "source": [
    "**Business goal:** Improve efficiency of long‑term deposit campaigns by predicting which clients will subscribe, so that the bank can focus resources on the highest‑value prospects\n",
    "\n",
    "- The bank marketing dataset comes from a Portuguese banking institution and represents the results of a direct marketing campaign. Although each record contains a variable called campaign (which reports the number of contacts performed during the current campaign), the dataset itself corresponds to one overall marketing campaign. In other words, every row represents a contact attempt (or follow-up attempt) for that same campaign."
   ]
  },
  {
   "cell_type": "markdown",
   "metadata": {},
   "source": [
    "### Problem 2: Read in the Data\n",
    "\n",
    "Use pandas to read in the dataset `bank-additional-full.csv` and assign to a meaningful variable name."
   ]
  },
  {
   "cell_type": "code",
   "execution_count": 33,
   "metadata": {},
   "outputs": [],
   "source": [
    "import matplotlib.pyplot as plt\n",
    "import pandas as pd\n",
    "import numpy as np\n",
    "\n",
    "from sklearn.model_selection import train_test_split, GridSearchCV, RandomizedSearchCV\n",
    "from sklearn.preprocessing import StandardScaler, OneHotEncoder, LabelEncoder, PolynomialFeatures\n",
    "from sklearn.compose import ColumnTransformer\n",
    "from sklearn.pipeline import Pipeline\n",
    "from sklearn.neighbors import KNeighborsClassifier\n",
    "from sklearn.linear_model import LogisticRegression, RidgeClassifier, Lasso\n",
    "from sklearn.svm import SVC\n",
    "from sklearn.tree import DecisionTreeClassifier\n",
    "from sklearn.metrics import accuracy_score\n",
    "import time"
   ]
  },
  {
   "cell_type": "code",
   "execution_count": 12,
   "metadata": {},
   "outputs": [],
   "source": [
    "df = pd.read_csv('data/bank-additional-full.csv', sep = ';')"
   ]
  },
  {
   "cell_type": "code",
   "execution_count": 13,
   "metadata": {},
   "outputs": [
    {
     "data": {
      "text/html": [
       "<div>\n",
       "<style scoped>\n",
       "    .dataframe tbody tr th:only-of-type {\n",
       "        vertical-align: middle;\n",
       "    }\n",
       "\n",
       "    .dataframe tbody tr th {\n",
       "        vertical-align: top;\n",
       "    }\n",
       "\n",
       "    .dataframe thead th {\n",
       "        text-align: right;\n",
       "    }\n",
       "</style>\n",
       "<table border=\"1\" class=\"dataframe\">\n",
       "  <thead>\n",
       "    <tr style=\"text-align: right;\">\n",
       "      <th></th>\n",
       "      <th>age</th>\n",
       "      <th>job</th>\n",
       "      <th>marital</th>\n",
       "      <th>education</th>\n",
       "      <th>default</th>\n",
       "      <th>housing</th>\n",
       "      <th>loan</th>\n",
       "      <th>contact</th>\n",
       "      <th>month</th>\n",
       "      <th>day_of_week</th>\n",
       "      <th>...</th>\n",
       "      <th>campaign</th>\n",
       "      <th>pdays</th>\n",
       "      <th>previous</th>\n",
       "      <th>poutcome</th>\n",
       "      <th>emp.var.rate</th>\n",
       "      <th>cons.price.idx</th>\n",
       "      <th>cons.conf.idx</th>\n",
       "      <th>euribor3m</th>\n",
       "      <th>nr.employed</th>\n",
       "      <th>y</th>\n",
       "    </tr>\n",
       "  </thead>\n",
       "  <tbody>\n",
       "    <tr>\n",
       "      <th>0</th>\n",
       "      <td>56</td>\n",
       "      <td>housemaid</td>\n",
       "      <td>married</td>\n",
       "      <td>basic.4y</td>\n",
       "      <td>no</td>\n",
       "      <td>no</td>\n",
       "      <td>no</td>\n",
       "      <td>telephone</td>\n",
       "      <td>may</td>\n",
       "      <td>mon</td>\n",
       "      <td>...</td>\n",
       "      <td>1</td>\n",
       "      <td>999</td>\n",
       "      <td>0</td>\n",
       "      <td>nonexistent</td>\n",
       "      <td>1.1</td>\n",
       "      <td>93.994</td>\n",
       "      <td>-36.4</td>\n",
       "      <td>4.857</td>\n",
       "      <td>5191.0</td>\n",
       "      <td>no</td>\n",
       "    </tr>\n",
       "    <tr>\n",
       "      <th>1</th>\n",
       "      <td>57</td>\n",
       "      <td>services</td>\n",
       "      <td>married</td>\n",
       "      <td>high.school</td>\n",
       "      <td>unknown</td>\n",
       "      <td>no</td>\n",
       "      <td>no</td>\n",
       "      <td>telephone</td>\n",
       "      <td>may</td>\n",
       "      <td>mon</td>\n",
       "      <td>...</td>\n",
       "      <td>1</td>\n",
       "      <td>999</td>\n",
       "      <td>0</td>\n",
       "      <td>nonexistent</td>\n",
       "      <td>1.1</td>\n",
       "      <td>93.994</td>\n",
       "      <td>-36.4</td>\n",
       "      <td>4.857</td>\n",
       "      <td>5191.0</td>\n",
       "      <td>no</td>\n",
       "    </tr>\n",
       "    <tr>\n",
       "      <th>2</th>\n",
       "      <td>37</td>\n",
       "      <td>services</td>\n",
       "      <td>married</td>\n",
       "      <td>high.school</td>\n",
       "      <td>no</td>\n",
       "      <td>yes</td>\n",
       "      <td>no</td>\n",
       "      <td>telephone</td>\n",
       "      <td>may</td>\n",
       "      <td>mon</td>\n",
       "      <td>...</td>\n",
       "      <td>1</td>\n",
       "      <td>999</td>\n",
       "      <td>0</td>\n",
       "      <td>nonexistent</td>\n",
       "      <td>1.1</td>\n",
       "      <td>93.994</td>\n",
       "      <td>-36.4</td>\n",
       "      <td>4.857</td>\n",
       "      <td>5191.0</td>\n",
       "      <td>no</td>\n",
       "    </tr>\n",
       "    <tr>\n",
       "      <th>3</th>\n",
       "      <td>40</td>\n",
       "      <td>admin.</td>\n",
       "      <td>married</td>\n",
       "      <td>basic.6y</td>\n",
       "      <td>no</td>\n",
       "      <td>no</td>\n",
       "      <td>no</td>\n",
       "      <td>telephone</td>\n",
       "      <td>may</td>\n",
       "      <td>mon</td>\n",
       "      <td>...</td>\n",
       "      <td>1</td>\n",
       "      <td>999</td>\n",
       "      <td>0</td>\n",
       "      <td>nonexistent</td>\n",
       "      <td>1.1</td>\n",
       "      <td>93.994</td>\n",
       "      <td>-36.4</td>\n",
       "      <td>4.857</td>\n",
       "      <td>5191.0</td>\n",
       "      <td>no</td>\n",
       "    </tr>\n",
       "    <tr>\n",
       "      <th>4</th>\n",
       "      <td>56</td>\n",
       "      <td>services</td>\n",
       "      <td>married</td>\n",
       "      <td>high.school</td>\n",
       "      <td>no</td>\n",
       "      <td>no</td>\n",
       "      <td>yes</td>\n",
       "      <td>telephone</td>\n",
       "      <td>may</td>\n",
       "      <td>mon</td>\n",
       "      <td>...</td>\n",
       "      <td>1</td>\n",
       "      <td>999</td>\n",
       "      <td>0</td>\n",
       "      <td>nonexistent</td>\n",
       "      <td>1.1</td>\n",
       "      <td>93.994</td>\n",
       "      <td>-36.4</td>\n",
       "      <td>4.857</td>\n",
       "      <td>5191.0</td>\n",
       "      <td>no</td>\n",
       "    </tr>\n",
       "  </tbody>\n",
       "</table>\n",
       "<p>5 rows × 21 columns</p>\n",
       "</div>"
      ],
      "text/plain": [
       "   age        job  marital    education  default housing loan    contact  \\\n",
       "0   56  housemaid  married     basic.4y       no      no   no  telephone   \n",
       "1   57   services  married  high.school  unknown      no   no  telephone   \n",
       "2   37   services  married  high.school       no     yes   no  telephone   \n",
       "3   40     admin.  married     basic.6y       no      no   no  telephone   \n",
       "4   56   services  married  high.school       no      no  yes  telephone   \n",
       "\n",
       "  month day_of_week  ...  campaign  pdays  previous     poutcome emp.var.rate  \\\n",
       "0   may         mon  ...         1    999         0  nonexistent          1.1   \n",
       "1   may         mon  ...         1    999         0  nonexistent          1.1   \n",
       "2   may         mon  ...         1    999         0  nonexistent          1.1   \n",
       "3   may         mon  ...         1    999         0  nonexistent          1.1   \n",
       "4   may         mon  ...         1    999         0  nonexistent          1.1   \n",
       "\n",
       "   cons.price.idx  cons.conf.idx  euribor3m  nr.employed   y  \n",
       "0          93.994          -36.4      4.857       5191.0  no  \n",
       "1          93.994          -36.4      4.857       5191.0  no  \n",
       "2          93.994          -36.4      4.857       5191.0  no  \n",
       "3          93.994          -36.4      4.857       5191.0  no  \n",
       "4          93.994          -36.4      4.857       5191.0  no  \n",
       "\n",
       "[5 rows x 21 columns]"
      ]
     },
     "execution_count": 13,
     "metadata": {},
     "output_type": "execute_result"
    }
   ],
   "source": [
    "df.head()"
   ]
  },
  {
   "cell_type": "markdown",
   "metadata": {},
   "source": [
    "### Problem 3: Understanding the Features\n",
    "\n",
    "\n",
    "Examine the data description below, and determine if any of the features are missing values or need to be coerced to a different data type.\n",
    "\n",
    "\n",
    "```\n",
    "Input variables:\n",
    "# bank client data:\n",
    "1 - age (numeric)\n",
    "2 - job : type of job (categorical: 'admin.','blue-collar','entrepreneur','housemaid','management','retired','self-employed','services','student','technician','unemployed','unknown')\n",
    "3 - marital : marital status (categorical: 'divorced','married','single','unknown'; note: 'divorced' means divorced or widowed)\n",
    "4 - education (categorical: 'basic.4y','basic.6y','basic.9y','high.school','illiterate','professional.course','university.degree','unknown')\n",
    "5 - default: has credit in default? (categorical: 'no','yes','unknown')\n",
    "6 - housing: has housing loan? (categorical: 'no','yes','unknown')\n",
    "7 - loan: has personal loan? (categorical: 'no','yes','unknown')\n",
    "# related with the last contact of the current campaign:\n",
    "8 - contact: contact communication type (categorical: 'cellular','telephone')\n",
    "9 - month: last contact month of year (categorical: 'jan', 'feb', 'mar', ..., 'nov', 'dec')\n",
    "10 - day_of_week: last contact day of the week (categorical: 'mon','tue','wed','thu','fri')\n",
    "11 - duration: last contact duration, in seconds (numeric). Important note: this attribute highly affects the output target (e.g., if duration=0 then y='no'). Yet, the duration is not known before a call is performed. Also, after the end of the call y is obviously known. Thus, this input should only be included for benchmark purposes and should be discarded if the intention is to have a realistic predictive model.\n",
    "# other attributes:\n",
    "12 - campaign: number of contacts performed during this campaign and for this client (numeric, includes last contact)\n",
    "13 - pdays: number of days that passed by after the client was last contacted from a previous campaign (numeric; 999 means client was not previously contacted)\n",
    "14 - previous: number of contacts performed before this campaign and for this client (numeric)\n",
    "15 - poutcome: outcome of the previous marketing campaign (categorical: 'failure','nonexistent','success')\n",
    "# social and economic context attributes\n",
    "16 - emp.var.rate: employment variation rate - quarterly indicator (numeric)\n",
    "17 - cons.price.idx: consumer price index - monthly indicator (numeric)\n",
    "18 - cons.conf.idx: consumer confidence index - monthly indicator (numeric)\n",
    "19 - euribor3m: euribor 3 month rate - daily indicator (numeric)\n",
    "20 - nr.employed: number of employees - quarterly indicator (numeric)\n",
    "\n",
    "Output variable (desired target):\n",
    "21 - y - has the client subscribed a term deposit? (binary: 'yes','no')\n",
    "```\n",
    "\n"
   ]
  },
  {
   "cell_type": "markdown",
   "metadata": {},
   "source": [
    "We can group the predictors into four broad categories:\n",
    "\n",
    "**Client Demographics:**\n",
    "\n",
    "- age (numeric)\n",
    "- job (categorical) – type of job (e.g. “management”, “technician”, …)\n",
    "- marital (categorical) – marital status (“married”, “single”, “divorced”)\n",
    "- education (categorical) – highest education level (“secondary”, “tertiary”, …)\n",
    "- default (categorical) – has credit in default? (“yes”/“no”/“unknown”)\n",
    "- balance (numeric) – bank account balance (in euros)\n",
    "- housing (categorical) – has housing loan? (“yes”/“no”/“unknown”)\n",
    "- loan (categorical) – has personal loan? (“yes”/“no”/“unknown”)\n",
    "\n",
    "**Campaign & Contact Information**\n",
    "\n",
    "- contact (categorical) – communication type (“cellular”/“telephone”)\n",
    "- day (numeric) – day of month of last contact\n",
    "- month (categorical) – month of year of last contact\n",
    "- campaign (numeric) – number of contacts performed during this campaign\n",
    "- pdays (numeric) – days since last contact of previous campaign ( 999 means “never contacted before”)\n",
    "- previous (numeric) – number of contacts performed before this campaign\n",
    "- poutcome (categorical) – outcome of the previous marketing campaign (“success”, “failure”, “other”, “unknown”)\n",
    "\n",
    "**Macro‑Economic Indicators**\n",
    "- emp.var.rate (numeric) – employment variation rate (quarterly)\n",
    "- cons.price.idx (numeric) – consumer price index (monthly)\n",
    "- cons.conf.idx (numeric) – consumer confidence index (monthly)\n",
    "- euribor3m (numeric) – 3‑month Euribor rate\n",
    "- nr.employed (numeric) – number of employees (in thousands)\n",
    "\n",
    "**Call Duration**\n",
    "- duration (numeric) – last contact duration, in seconds"
   ]
  },
  {
   "cell_type": "markdown",
   "metadata": {},
   "source": [
    "### Problem 4: Understanding the Task\n",
    "\n",
    "After examining the description and data, your goal now is to clearly state the *Business Objective* of the task.  State the objective below."
   ]
  },
  {
   "cell_type": "code",
   "execution_count": 14,
   "metadata": {},
   "outputs": [
    {
     "name": "stdout",
     "output_type": "stream",
     "text": [
      "<class 'pandas.core.frame.DataFrame'>\n",
      "RangeIndex: 41188 entries, 0 to 41187\n",
      "Data columns (total 21 columns):\n",
      " #   Column          Non-Null Count  Dtype  \n",
      "---  ------          --------------  -----  \n",
      " 0   age             41188 non-null  int64  \n",
      " 1   job             41188 non-null  object \n",
      " 2   marital         41188 non-null  object \n",
      " 3   education       41188 non-null  object \n",
      " 4   default         41188 non-null  object \n",
      " 5   housing         41188 non-null  object \n",
      " 6   loan            41188 non-null  object \n",
      " 7   contact         41188 non-null  object \n",
      " 8   month           41188 non-null  object \n",
      " 9   day_of_week     41188 non-null  object \n",
      " 10  duration        41188 non-null  int64  \n",
      " 11  campaign        41188 non-null  int64  \n",
      " 12  pdays           41188 non-null  int64  \n",
      " 13  previous        41188 non-null  int64  \n",
      " 14  poutcome        41188 non-null  object \n",
      " 15  emp.var.rate    41188 non-null  float64\n",
      " 16  cons.price.idx  41188 non-null  float64\n",
      " 17  cons.conf.idx   41188 non-null  float64\n",
      " 18  euribor3m       41188 non-null  float64\n",
      " 19  nr.employed     41188 non-null  float64\n",
      " 20  y               41188 non-null  object \n",
      "dtypes: float64(5), int64(5), object(11)\n",
      "memory usage: 6.6+ MB\n"
     ]
    }
   ],
   "source": [
    "df.info()"
   ]
  },
  {
   "cell_type": "markdown",
   "metadata": {},
   "source": [
    "**Size & Scope:**\n",
    "- 41188 total contact records\n",
    "- 20 input features (mixed categorical and integer) plus the binary target\n",
    "- Contacts span May 2008 through November 2010"
   ]
  },
  {
   "cell_type": "code",
   "execution_count": 15,
   "metadata": {},
   "outputs": [
    {
     "data": {
      "text/html": [
       "<div>\n",
       "<style scoped>\n",
       "    .dataframe tbody tr th:only-of-type {\n",
       "        vertical-align: middle;\n",
       "    }\n",
       "\n",
       "    .dataframe tbody tr th {\n",
       "        vertical-align: top;\n",
       "    }\n",
       "\n",
       "    .dataframe thead th {\n",
       "        text-align: right;\n",
       "    }\n",
       "</style>\n",
       "<table border=\"1\" class=\"dataframe\">\n",
       "  <thead>\n",
       "    <tr style=\"text-align: right;\">\n",
       "      <th></th>\n",
       "      <th>age</th>\n",
       "      <th>duration</th>\n",
       "      <th>campaign</th>\n",
       "      <th>pdays</th>\n",
       "      <th>previous</th>\n",
       "      <th>emp.var.rate</th>\n",
       "      <th>cons.price.idx</th>\n",
       "      <th>cons.conf.idx</th>\n",
       "      <th>euribor3m</th>\n",
       "      <th>nr.employed</th>\n",
       "    </tr>\n",
       "  </thead>\n",
       "  <tbody>\n",
       "    <tr>\n",
       "      <th>count</th>\n",
       "      <td>41188.00000</td>\n",
       "      <td>41188.000000</td>\n",
       "      <td>41188.000000</td>\n",
       "      <td>41188.000000</td>\n",
       "      <td>41188.000000</td>\n",
       "      <td>41188.000000</td>\n",
       "      <td>41188.000000</td>\n",
       "      <td>41188.000000</td>\n",
       "      <td>41188.000000</td>\n",
       "      <td>41188.000000</td>\n",
       "    </tr>\n",
       "    <tr>\n",
       "      <th>mean</th>\n",
       "      <td>40.02406</td>\n",
       "      <td>258.285010</td>\n",
       "      <td>2.567593</td>\n",
       "      <td>962.475454</td>\n",
       "      <td>0.172963</td>\n",
       "      <td>0.081886</td>\n",
       "      <td>93.575664</td>\n",
       "      <td>-40.502600</td>\n",
       "      <td>3.621291</td>\n",
       "      <td>5167.035911</td>\n",
       "    </tr>\n",
       "    <tr>\n",
       "      <th>std</th>\n",
       "      <td>10.42125</td>\n",
       "      <td>259.279249</td>\n",
       "      <td>2.770014</td>\n",
       "      <td>186.910907</td>\n",
       "      <td>0.494901</td>\n",
       "      <td>1.570960</td>\n",
       "      <td>0.578840</td>\n",
       "      <td>4.628198</td>\n",
       "      <td>1.734447</td>\n",
       "      <td>72.251528</td>\n",
       "    </tr>\n",
       "    <tr>\n",
       "      <th>min</th>\n",
       "      <td>17.00000</td>\n",
       "      <td>0.000000</td>\n",
       "      <td>1.000000</td>\n",
       "      <td>0.000000</td>\n",
       "      <td>0.000000</td>\n",
       "      <td>-3.400000</td>\n",
       "      <td>92.201000</td>\n",
       "      <td>-50.800000</td>\n",
       "      <td>0.634000</td>\n",
       "      <td>4963.600000</td>\n",
       "    </tr>\n",
       "    <tr>\n",
       "      <th>25%</th>\n",
       "      <td>32.00000</td>\n",
       "      <td>102.000000</td>\n",
       "      <td>1.000000</td>\n",
       "      <td>999.000000</td>\n",
       "      <td>0.000000</td>\n",
       "      <td>-1.800000</td>\n",
       "      <td>93.075000</td>\n",
       "      <td>-42.700000</td>\n",
       "      <td>1.344000</td>\n",
       "      <td>5099.100000</td>\n",
       "    </tr>\n",
       "    <tr>\n",
       "      <th>50%</th>\n",
       "      <td>38.00000</td>\n",
       "      <td>180.000000</td>\n",
       "      <td>2.000000</td>\n",
       "      <td>999.000000</td>\n",
       "      <td>0.000000</td>\n",
       "      <td>1.100000</td>\n",
       "      <td>93.749000</td>\n",
       "      <td>-41.800000</td>\n",
       "      <td>4.857000</td>\n",
       "      <td>5191.000000</td>\n",
       "    </tr>\n",
       "    <tr>\n",
       "      <th>75%</th>\n",
       "      <td>47.00000</td>\n",
       "      <td>319.000000</td>\n",
       "      <td>3.000000</td>\n",
       "      <td>999.000000</td>\n",
       "      <td>0.000000</td>\n",
       "      <td>1.400000</td>\n",
       "      <td>93.994000</td>\n",
       "      <td>-36.400000</td>\n",
       "      <td>4.961000</td>\n",
       "      <td>5228.100000</td>\n",
       "    </tr>\n",
       "    <tr>\n",
       "      <th>max</th>\n",
       "      <td>98.00000</td>\n",
       "      <td>4918.000000</td>\n",
       "      <td>56.000000</td>\n",
       "      <td>999.000000</td>\n",
       "      <td>7.000000</td>\n",
       "      <td>1.400000</td>\n",
       "      <td>94.767000</td>\n",
       "      <td>-26.900000</td>\n",
       "      <td>5.045000</td>\n",
       "      <td>5228.100000</td>\n",
       "    </tr>\n",
       "  </tbody>\n",
       "</table>\n",
       "</div>"
      ],
      "text/plain": [
       "               age      duration      campaign         pdays      previous  \\\n",
       "count  41188.00000  41188.000000  41188.000000  41188.000000  41188.000000   \n",
       "mean      40.02406    258.285010      2.567593    962.475454      0.172963   \n",
       "std       10.42125    259.279249      2.770014    186.910907      0.494901   \n",
       "min       17.00000      0.000000      1.000000      0.000000      0.000000   \n",
       "25%       32.00000    102.000000      1.000000    999.000000      0.000000   \n",
       "50%       38.00000    180.000000      2.000000    999.000000      0.000000   \n",
       "75%       47.00000    319.000000      3.000000    999.000000      0.000000   \n",
       "max       98.00000   4918.000000     56.000000    999.000000      7.000000   \n",
       "\n",
       "       emp.var.rate  cons.price.idx  cons.conf.idx     euribor3m   nr.employed  \n",
       "count  41188.000000    41188.000000   41188.000000  41188.000000  41188.000000  \n",
       "mean       0.081886       93.575664     -40.502600      3.621291   5167.035911  \n",
       "std        1.570960        0.578840       4.628198      1.734447     72.251528  \n",
       "min       -3.400000       92.201000     -50.800000      0.634000   4963.600000  \n",
       "25%       -1.800000       93.075000     -42.700000      1.344000   5099.100000  \n",
       "50%        1.100000       93.749000     -41.800000      4.857000   5191.000000  \n",
       "75%        1.400000       93.994000     -36.400000      4.961000   5228.100000  \n",
       "max        1.400000       94.767000     -26.900000      5.045000   5228.100000  "
      ]
     },
     "execution_count": 15,
     "metadata": {},
     "output_type": "execute_result"
    }
   ],
   "source": [
    "df.describe()"
   ]
  },
  {
   "cell_type": "code",
   "execution_count": 16,
   "metadata": {},
   "outputs": [
    {
     "name": "stdout",
     "output_type": "stream",
     "text": [
      "             unknown_count\n",
      "job                    330\n",
      "marital                 80\n",
      "education             1731\n",
      "default               8597\n",
      "housing                990\n",
      "loan                   990\n",
      "contact                  0\n",
      "month                    0\n",
      "day_of_week              0\n",
      "poutcome                 0\n",
      "y                        0\n"
     ]
    }
   ],
   "source": [
    "# Count 'unknown' placeholders in each categorical column\n",
    "unknown_counts = {\n",
    "    col: (df[col] == 'unknown').sum() \n",
    "    for col in df.select_dtypes(include=['object']).columns\n",
    "}\n",
    "\n",
    "# Convert to a DataFrame for a clear display\n",
    "unknown_df = pd.DataFrame.from_dict(unknown_counts, orient='index', columns=['unknown_count'])\n",
    "print(unknown_df)"
   ]
  },
  {
   "cell_type": "code",
   "execution_count": 17,
   "metadata": {},
   "outputs": [
    {
     "name": "stdout",
     "output_type": "stream",
     "text": [
      "             unique_count\n",
      "job                    12\n",
      "marital                 4\n",
      "education               8\n",
      "default                 3\n",
      "housing                 3\n",
      "loan                    3\n",
      "contact                 2\n",
      "month                  10\n",
      "day_of_week             5\n",
      "poutcome                3\n",
      "y                       2\n"
     ]
    }
   ],
   "source": [
    "# Count unique values in each categorical column\n",
    "unique_counts = {\n",
    "    col: df[col].nunique() \n",
    "    for col in df.select_dtypes(include=['object']).columns\n",
    "}\n",
    "\n",
    "# Convert to a DataFrame for clear display\n",
    "unique_df = pd.DataFrame.from_dict(unique_counts, orient='index', columns=['unique_count'])\n",
    "print(unique_df)"
   ]
  },
  {
   "cell_type": "markdown",
   "metadata": {},
   "source": [
    "**Key observations:**\n",
    "- No true missing (NaN) values, but several categorical fields carry substantial “unknown” entries (e.g., housing, loan ~9,900 each), which should be addressed in Data Preparation (imputation or separate category).\n",
    "- pdays is almost always 999 (never contacted before), indicating a highly skewed distribution.\n",
    "- duration has a wide range (0 to 4,918 s) but will be dropped for realistic modelin"
   ]
  },
  {
   "cell_type": "markdown",
   "metadata": {},
   "source": [
    "### Data Analysis"
   ]
  },
  {
   "cell_type": "code",
   "execution_count": 18,
   "metadata": {},
   "outputs": [
    {
     "data": {
      "image/png": "[encoded data removed]",
      "text/plain": [
       "<Figure size 432x288 with 1 Axes>"
      ]
     },
     "metadata": {
      "needs_background": "light"
     },
     "output_type": "display_data"
    },
    {
     "data": {
      "image/png": "[encoded data removed]",
      "text/plain": [
       "<Figure size 432x288 with 1 Axes>"
      ]
     },
     "metadata": {
      "needs_background": "light"
     },
     "output_type": "display_data"
    }
   ],
   "source": [
    "# Encode target\n",
    "df['y'] = df['y'].map({'yes':1,'no':0})\n",
    "\n",
    "# Plot 1: Target distribution\n",
    "plt.figure()\n",
    "counts = df['y'].value_counts().sort_index()\n",
    "plt.bar(['No (0)', 'Yes (1)'], counts.values)\n",
    "plt.title('Subscription Target Distribution')\n",
    "plt.xlabel('Subscribed')\n",
    "plt.ylabel('Count')\n",
    "plt.show()\n",
    "\n",
    "# Plot 2: Age distribution\n",
    "plt.figure()\n",
    "plt.hist(df['age'], bins=20)\n",
    "plt.title('Age Distribution of Clients')\n",
    "plt.xlabel('Age')\n",
    "plt.ylabel('Count')\n",
    "plt.show()\n"
   ]
  },
  {
   "cell_type": "code",
   "execution_count": 19,
   "metadata": {},
   "outputs": [
    {
     "data": {
      "image/png": "[encoded data removed]",
      "text/plain": [
       "<Figure size 432x288 with 1 Axes>"
      ]
     },
     "metadata": {
      "needs_background": "light"
     },
     "output_type": "display_data"
    },
    {
     "data": {
      "image/png": "[encoded data removed]",
      "text/plain": [
       "<Figure size 432x288 with 1 Axes>"
      ]
     },
     "metadata": {
      "needs_background": "light"
     },
     "output_type": "display_data"
    }
   ],
   "source": [
    "# Compute subscription rates for key categorical features\n",
    "job_rate = df.groupby('job')['y'].agg(['mean','count']).rename(columns={'mean':'subscription_rate'})\n",
    "education_rate = df.groupby('education')['y'].agg(['mean','count']).rename(columns={'mean':'subscription_rate'})\n",
    "month_order = ['jan','feb','mar','apr','may','jun','jul','aug','sep','oct','nov','dec']\n",
    "month_rate = df.groupby('month')['y'].agg(['mean','count']).rename(columns={'mean':'subscription_rate'}).reindex(month_order)\n",
    "contact_rate = df.groupby('contact')['y'].agg(['mean','count']).rename(columns={'mean':'subscription_rate'})\n",
    "\n",
    "# Plot subscription rate by job\n",
    "plt.figure()\n",
    "job_rate['subscription_rate'].sort_values().plot(kind='bar')\n",
    "plt.title('Subscription Rate by Job')\n",
    "plt.xlabel('Job')\n",
    "plt.ylabel('Subscription Rate')\n",
    "plt.tight_layout()\n",
    "plt.show()\n",
    "\n",
    "# Plot subscription rate by month\n",
    "plt.figure()\n",
    "month_rate['subscription_rate'].plot(kind='bar')\n",
    "plt.title('Subscription Rate by Month')\n",
    "plt.xlabel('Month')\n",
    "plt.ylabel('Subscription Rate')\n",
    "plt.tight_layout()\n",
    "plt.show()\n"
   ]
  },
  {
   "cell_type": "code",
   "execution_count": 20,
   "metadata": {},
   "outputs": [
    {
     "data": {
      "text/html": [
       "<div>\n",
       "<style scoped>\n",
       "    .dataframe tbody tr th:only-of-type {\n",
       "        vertical-align: middle;\n",
       "    }\n",
       "\n",
       "    .dataframe tbody tr th {\n",
       "        vertical-align: top;\n",
       "    }\n",
       "\n",
       "    .dataframe thead th {\n",
       "        text-align: right;\n",
       "    }\n",
       "</style>\n",
       "<table border=\"1\" class=\"dataframe\">\n",
       "  <thead>\n",
       "    <tr style=\"text-align: right;\">\n",
       "      <th></th>\n",
       "      <th>correlation</th>\n",
       "    </tr>\n",
       "  </thead>\n",
       "  <tbody>\n",
       "    <tr>\n",
       "      <th>duration</th>\n",
       "      <td>0.405274</td>\n",
       "    </tr>\n",
       "    <tr>\n",
       "      <th>previous</th>\n",
       "      <td>0.230181</td>\n",
       "    </tr>\n",
       "    <tr>\n",
       "      <th>cons.conf.idx</th>\n",
       "      <td>0.054878</td>\n",
       "    </tr>\n",
       "    <tr>\n",
       "      <th>age</th>\n",
       "      <td>0.030399</td>\n",
       "    </tr>\n",
       "    <tr>\n",
       "      <th>campaign</th>\n",
       "      <td>-0.066357</td>\n",
       "    </tr>\n",
       "    <tr>\n",
       "      <th>cons.price.idx</th>\n",
       "      <td>-0.136211</td>\n",
       "    </tr>\n",
       "    <tr>\n",
       "      <th>emp.var.rate</th>\n",
       "      <td>-0.298334</td>\n",
       "    </tr>\n",
       "    <tr>\n",
       "      <th>euribor3m</th>\n",
       "      <td>-0.307771</td>\n",
       "    </tr>\n",
       "    <tr>\n",
       "      <th>pdays</th>\n",
       "      <td>-0.324914</td>\n",
       "    </tr>\n",
       "    <tr>\n",
       "      <th>nr.employed</th>\n",
       "      <td>-0.354678</td>\n",
       "    </tr>\n",
       "  </tbody>\n",
       "</table>\n",
       "</div>"
      ],
      "text/plain": [
       "                correlation\n",
       "duration           0.405274\n",
       "previous           0.230181\n",
       "cons.conf.idx      0.054878\n",
       "age                0.030399\n",
       "campaign          -0.066357\n",
       "cons.price.idx    -0.136211\n",
       "emp.var.rate      -0.298334\n",
       "euribor3m         -0.307771\n",
       "pdays             -0.324914\n",
       "nr.employed       -0.354678"
      ]
     },
     "execution_count": 20,
     "metadata": {},
     "output_type": "execute_result"
    }
   ],
   "source": [
    "numeric_cols = df.select_dtypes(include=[np.number]).columns.tolist()\n",
    "numeric_cols.remove('y')\n",
    "corr_df = df[numeric_cols + ['y']].corr()['y'].drop('y').sort_values(ascending=False).to_frame('correlation')\n",
    "corr_df"
   ]
  },
  {
   "cell_type": "markdown",
   "metadata": {},
   "source": [
    "**Key Takeaway:**\n",
    "\n",
    "1. **Strong Class Imbalance**  \n",
    "   - Only about **11%** of contacts resulted in a subscription (≈ 4,700 “yes” vs. ≈ 37,000 “no”), so any model will need to account for this skew (e.g. via resampling or class‑weighting).\n",
    "\n",
    "2. **Numeric Feature Correlations**  \n",
    "   - The variables most correlated (in absolute terms) with subscription were:  \n",
    "     - `cons.price.idx` (CPI): higher CPI ↗ subscription  \n",
    "     - `emp.var.rate`: higher employment‐variation ↘ subscription  \n",
    "     - `campaign` and `previous`: more calls tended to decrease odds  \n",
    "     - Our correlation table can guide feature selection and scaling.\n",
    "\n",
    "3. **Demographics & Occupation**  \n",
    "   - **Job title** matters: certain segments (e.g., retirees, students) had noticeably higher subscription rates, while others (e.g., blue‑collar, self‑employed) were less responsive.\n",
    "\n",
    "4. **Education Level**  \n",
    "   - Clients with **tertiary education** tended to subscribe more than those with only secondary or “unknown” education.\n",
    "\n",
    "5. **Timing Effects**  \n",
    "   - **Monthly seasonality** is clear: contacts in **March**, **July**, and **December** saw higher conversion rates, whereas **May** was particularly weak.  \n",
    "   - **Day of week** (not shown above) likewise can be explored for “best day” to call.\n",
    "\n",
    "6. **Contact Mode**  \n",
    "   - **Cellular** calls outperform **telephone** (landline) contacts by a significant margin.\n",
    "\n",
    "7. **Age Distribution**  \n",
    "   - Most clients are aged **25–60**, peaking around **30–40**, suggesting models could consider age‑based interactions or stratification.\n",
    "\n",
    "8. **Campaign History**  \n",
    "   - The binary flag `never_contacted` (pdays==999) highlights that **first‑time contacts** often convert better than those already called multiple times; conversely, a higher raw count of prior calls (`previous`) correlates with lower success.\n",
    "\n",
    "---\n",
    "\n",
    "Together, these insights point to:\n",
    "\n",
    "- **Targeting**: Focus on high‑yield demographics (e.g., retirees, students, tertiary‑educated) and favorable months.  \n",
    "- **Call strategy**: Prioritize cellular outreach and limit repeated calls.  \n",
    "- **Modeling**: Account for imbalance, include seasonal and cyclic features, and consider interaction terms (e.g. age × job) for improving predictive power."
   ]
  },
  {
   "cell_type": "markdown",
   "metadata": {},
   "source": [
    "### Problem 5: Engineering Features\n",
    "\n",
    "Now that you understand your business objective, we will build a basic model to get started.  Before we can do this, we must work to encode the data.  Using just the bank information features, prepare the features and target column for modeling with appropriate encoding and transformations."
   ]
  },
  {
   "cell_type": "code",
   "execution_count": 21,
   "metadata": {},
   "outputs": [],
   "source": [
    "#Drop post-call 'duration'\n",
    "df = df.drop(['duration'], axis=1)\n",
    "\n",
    "#Flag for never contacted in previous campaigns\n",
    "df['never_contacted'] = (df['pdays'] == 999).astype(int)\n",
    "\n",
    "#Contact rate: previous contacts per campaign\n",
    "df['contact_rate'] = df['previous'] / df['campaign']\n",
    "\n",
    "#Cyclical encoding for 'month'\n",
    "month_mapping = {\n",
    "    'jan': 0, 'feb': 1, 'mar': 2, 'apr': 3, 'may': 4, 'jun': 5,\n",
    "    'jul': 6, 'aug': 7, 'sep': 8, 'oct': 9, 'nov': 10, 'dec': 11\n",
    "}\n",
    "df['month_num'] = df['month'].map(month_mapping)\n",
    "df['month_sin'] = np.sin(2 * np.pi * df['month_num'] / 12)\n",
    "df['month_cos'] = np.cos(2 * np.pi * df['month_num'] / 12)\n",
    "\n",
    "#Cyclical encoding for 'day_of_week'\n",
    "day_mapping = {'mon': 0, 'tue': 1, 'wed': 2, 'thu': 3, 'fri': 4}\n",
    "df['day_num'] = df['day_of_week'].map(day_mapping)\n",
    "df['day_sin'] = np.sin(2 * np.pi * df['day_num'] / 5)\n",
    "df['day_cos'] = np.cos(2 * np.pi * df['day_num'] / 5)\n",
    "\n",
    "#Drop columns no longer needed\n",
    "df = df.drop(['pdays', 'month', 'day_of_week', 'month_num', 'day_num'], axis=1)"
   ]
  },
  {
   "cell_type": "code",
   "execution_count": 22,
   "metadata": {},
   "outputs": [],
   "source": [
    "#Preprocessor for numeric and category cols of input\n",
    "X = df.drop(['y'], axis=1)\n",
    "y = df['y']\n",
    "\n",
    "numeric_cols = X.select_dtypes(include=[np.number]).columns.tolist()\n",
    "categorical_cols= [col for col in X.columns if col not in numeric_cols]\n",
    "\n",
    "preprocessor = ColumnTransformer(\n",
    "    transformers=[\n",
    "        ('num', StandardScaler(), numeric_cols),\n",
    "        ('cat', OneHotEncoder(drop='first'), categorical_cols)\n",
    "    ]\n",
    ")"
   ]
  },
  {
   "cell_type": "markdown",
   "metadata": {},
   "source": [
    "### Problem 6: Train/Test Split\n",
    "\n",
    "With your data prepared, split it into a train and test set."
   ]
  },
  {
   "cell_type": "code",
   "execution_count": 23,
   "metadata": {},
   "outputs": [],
   "source": [
    "# Split the data\n",
    "X_train, X_test, y_train, y_test = train_test_split(X, y, test_size=0.2, random_state=42)"
   ]
  },
  {
   "cell_type": "code",
   "execution_count": 24,
   "metadata": {},
   "outputs": [
    {
     "data": {
      "text/html": [
       "<div>\n",
       "<style scoped>\n",
       "    .dataframe tbody tr th:only-of-type {\n",
       "        vertical-align: middle;\n",
       "    }\n",
       "\n",
       "    .dataframe tbody tr th {\n",
       "        vertical-align: top;\n",
       "    }\n",
       "\n",
       "    .dataframe thead th {\n",
       "        text-align: right;\n",
       "    }\n",
       "</style>\n",
       "<table border=\"1\" class=\"dataframe\">\n",
       "  <thead>\n",
       "    <tr style=\"text-align: right;\">\n",
       "      <th></th>\n",
       "      <th>age</th>\n",
       "      <th>job</th>\n",
       "      <th>marital</th>\n",
       "      <th>education</th>\n",
       "      <th>default</th>\n",
       "      <th>housing</th>\n",
       "      <th>loan</th>\n",
       "      <th>contact</th>\n",
       "      <th>campaign</th>\n",
       "      <th>previous</th>\n",
       "      <th>...</th>\n",
       "      <th>cons.price.idx</th>\n",
       "      <th>cons.conf.idx</th>\n",
       "      <th>euribor3m</th>\n",
       "      <th>nr.employed</th>\n",
       "      <th>never_contacted</th>\n",
       "      <th>contact_rate</th>\n",
       "      <th>month_sin</th>\n",
       "      <th>month_cos</th>\n",
       "      <th>day_sin</th>\n",
       "      <th>day_cos</th>\n",
       "    </tr>\n",
       "  </thead>\n",
       "  <tbody>\n",
       "    <tr>\n",
       "      <th>12556</th>\n",
       "      <td>40</td>\n",
       "      <td>blue-collar</td>\n",
       "      <td>married</td>\n",
       "      <td>basic.9y</td>\n",
       "      <td>unknown</td>\n",
       "      <td>yes</td>\n",
       "      <td>no</td>\n",
       "      <td>telephone</td>\n",
       "      <td>2</td>\n",
       "      <td>0</td>\n",
       "      <td>...</td>\n",
       "      <td>93.918</td>\n",
       "      <td>-42.7</td>\n",
       "      <td>4.960</td>\n",
       "      <td>5228.1</td>\n",
       "      <td>1</td>\n",
       "      <td>0.000000</td>\n",
       "      <td>1.224647e-16</td>\n",
       "      <td>-1.0</td>\n",
       "      <td>0.000000</td>\n",
       "      <td>1.000000</td>\n",
       "    </tr>\n",
       "    <tr>\n",
       "      <th>35451</th>\n",
       "      <td>31</td>\n",
       "      <td>admin.</td>\n",
       "      <td>married</td>\n",
       "      <td>university.degree</td>\n",
       "      <td>no</td>\n",
       "      <td>no</td>\n",
       "      <td>no</td>\n",
       "      <td>cellular</td>\n",
       "      <td>4</td>\n",
       "      <td>0</td>\n",
       "      <td>...</td>\n",
       "      <td>92.893</td>\n",
       "      <td>-46.2</td>\n",
       "      <td>1.244</td>\n",
       "      <td>5099.1</td>\n",
       "      <td>1</td>\n",
       "      <td>0.000000</td>\n",
       "      <td>8.660254e-01</td>\n",
       "      <td>-0.5</td>\n",
       "      <td>0.000000</td>\n",
       "      <td>1.000000</td>\n",
       "    </tr>\n",
       "    <tr>\n",
       "      <th>30592</th>\n",
       "      <td>59</td>\n",
       "      <td>retired</td>\n",
       "      <td>married</td>\n",
       "      <td>basic.4y</td>\n",
       "      <td>no</td>\n",
       "      <td>no</td>\n",
       "      <td>no</td>\n",
       "      <td>cellular</td>\n",
       "      <td>6</td>\n",
       "      <td>1</td>\n",
       "      <td>...</td>\n",
       "      <td>92.893</td>\n",
       "      <td>-46.2</td>\n",
       "      <td>1.354</td>\n",
       "      <td>5099.1</td>\n",
       "      <td>1</td>\n",
       "      <td>0.166667</td>\n",
       "      <td>8.660254e-01</td>\n",
       "      <td>-0.5</td>\n",
       "      <td>0.000000</td>\n",
       "      <td>1.000000</td>\n",
       "    </tr>\n",
       "    <tr>\n",
       "      <th>17914</th>\n",
       "      <td>43</td>\n",
       "      <td>housemaid</td>\n",
       "      <td>divorced</td>\n",
       "      <td>basic.9y</td>\n",
       "      <td>no</td>\n",
       "      <td>yes</td>\n",
       "      <td>no</td>\n",
       "      <td>cellular</td>\n",
       "      <td>5</td>\n",
       "      <td>0</td>\n",
       "      <td>...</td>\n",
       "      <td>93.918</td>\n",
       "      <td>-42.7</td>\n",
       "      <td>4.961</td>\n",
       "      <td>5228.1</td>\n",
       "      <td>1</td>\n",
       "      <td>0.000000</td>\n",
       "      <td>1.224647e-16</td>\n",
       "      <td>-1.0</td>\n",
       "      <td>0.951057</td>\n",
       "      <td>0.309017</td>\n",
       "    </tr>\n",
       "    <tr>\n",
       "      <th>3315</th>\n",
       "      <td>39</td>\n",
       "      <td>admin.</td>\n",
       "      <td>single</td>\n",
       "      <td>high.school</td>\n",
       "      <td>unknown</td>\n",
       "      <td>no</td>\n",
       "      <td>no</td>\n",
       "      <td>telephone</td>\n",
       "      <td>2</td>\n",
       "      <td>0</td>\n",
       "      <td>...</td>\n",
       "      <td>93.994</td>\n",
       "      <td>-36.4</td>\n",
       "      <td>4.860</td>\n",
       "      <td>5191.0</td>\n",
       "      <td>1</td>\n",
       "      <td>0.000000</td>\n",
       "      <td>8.660254e-01</td>\n",
       "      <td>-0.5</td>\n",
       "      <td>-0.587785</td>\n",
       "      <td>-0.809017</td>\n",
       "    </tr>\n",
       "  </tbody>\n",
       "</table>\n",
       "<p>5 rows × 22 columns</p>\n",
       "</div>"
      ],
      "text/plain": [
       "       age          job   marital          education  default housing loan  \\\n",
       "12556   40  blue-collar   married           basic.9y  unknown     yes   no   \n",
       "35451   31       admin.   married  university.degree       no      no   no   \n",
       "30592   59      retired   married           basic.4y       no      no   no   \n",
       "17914   43    housemaid  divorced           basic.9y       no     yes   no   \n",
       "3315    39       admin.    single        high.school  unknown      no   no   \n",
       "\n",
       "         contact  campaign  previous  ... cons.price.idx  cons.conf.idx  \\\n",
       "12556  telephone         2         0  ...         93.918          -42.7   \n",
       "35451   cellular         4         0  ...         92.893          -46.2   \n",
       "30592   cellular         6         1  ...         92.893          -46.2   \n",
       "17914   cellular         5         0  ...         93.918          -42.7   \n",
       "3315   telephone         2         0  ...         93.994          -36.4   \n",
       "\n",
       "       euribor3m  nr.employed  never_contacted  contact_rate     month_sin  \\\n",
       "12556      4.960       5228.1                1      0.000000  1.224647e-16   \n",
       "35451      1.244       5099.1                1      0.000000  8.660254e-01   \n",
       "30592      1.354       5099.1                1      0.166667  8.660254e-01   \n",
       "17914      4.961       5228.1                1      0.000000  1.224647e-16   \n",
       "3315       4.860       5191.0                1      0.000000  8.660254e-01   \n",
       "\n",
       "       month_cos   day_sin   day_cos  \n",
       "12556       -1.0  0.000000  1.000000  \n",
       "35451       -0.5  0.000000  1.000000  \n",
       "30592       -0.5  0.000000  1.000000  \n",
       "17914       -1.0  0.951057  0.309017  \n",
       "3315        -0.5 -0.587785 -0.809017  \n",
       "\n",
       "[5 rows x 22 columns]"
      ]
     },
     "execution_count": 24,
     "metadata": {},
     "output_type": "execute_result"
    }
   ],
   "source": [
    "X_train.head()"
   ]
  },
  {
   "cell_type": "markdown",
   "metadata": {},
   "source": [
    "### Problem 7: A Baseline Model\n",
    "\n",
    "Before we build our first model, we want to establish a baseline.  What is the baseline performance that our classifier should aim to beat?"
   ]
  },
  {
   "cell_type": "code",
   "execution_count": 25,
   "metadata": {},
   "outputs": [
    {
     "name": "stdout",
     "output_type": "stream",
     "text": [
      "Majority class is: 0\n",
      "Baseline Accuracy (majority class guess): 0.887556904400607\n"
     ]
    }
   ],
   "source": [
    "# Calculate the majority class in the training target\n",
    "majority_class = y_train.mode()[0]\n",
    "baseline_accuracy = max(y_train.mean(), 1 - y_train.mean())\n",
    "\n",
    "print(\"Majority class is:\", majority_class)\n",
    "print(\"Baseline Accuracy (majority class guess):\", baseline_accuracy)"
   ]
  },
  {
   "cell_type": "markdown",
   "metadata": {},
   "source": [
    "### Problem 8: A Simple Model\n",
    "\n",
    "Use Logistic Regression to build a basic model on your data.  "
   ]
  },
  {
   "cell_type": "code",
   "execution_count": 26,
   "metadata": {},
   "outputs": [
    {
     "data": {
      "text/plain": [
       "Pipeline(steps=[('preprocessor',\n",
       "                 ColumnTransformer(transformers=[('num', StandardScaler(),\n",
       "                                                  ['age', 'campaign',\n",
       "                                                   'previous', 'emp.var.rate',\n",
       "                                                   'cons.price.idx',\n",
       "                                                   'cons.conf.idx', 'euribor3m',\n",
       "                                                   'nr.employed',\n",
       "                                                   'never_contacted',\n",
       "                                                   'contact_rate', 'month_sin',\n",
       "                                                   'month_cos', 'day_sin',\n",
       "                                                   'day_cos']),\n",
       "                                                 ('cat',\n",
       "                                                  OneHotEncoder(drop='first'),\n",
       "                                                  ['job', 'marital',\n",
       "                                                   'education', 'default',\n",
       "                                                   'housing', 'loan', 'contact',\n",
       "                                                   'poutcome'])])),\n",
       "                ('logreg', LogisticRegression(max_iter=1000, random_state=42))])"
      ]
     },
     "execution_count": 26,
     "metadata": {},
     "output_type": "execute_result"
    }
   ],
   "source": [
    "# Instantiate and fit the logistic regression model.\n",
    "# Increase max_iter if needed.\n",
    "simple_tree_pipe = Pipeline([\n",
    "        ('preprocessor', preprocessor),\n",
    "        ('logreg', LogisticRegression(max_iter=1000, random_state=42))\n",
    "    ])\n",
    "simple_tree_pipe.fit(X_train, y_train)"
   ]
  },
  {
   "cell_type": "markdown",
   "metadata": {},
   "source": [
    "### Problem 9: Score the Model\n",
    "\n",
    "What is the accuracy of your model?"
   ]
  },
  {
   "cell_type": "code",
   "execution_count": 27,
   "metadata": {},
   "outputs": [
    {
     "name": "stdout",
     "output_type": "stream",
     "text": [
      "Logistic Regression Train Accuracy: 0.9004855842185129\n",
      "Logistic Regression Test Accuracy: 0.8971837824714737\n"
     ]
    }
   ],
   "source": [
    "# Calculate training and test accuracy for Logistic Regression.\n",
    "train_acc_log = accuracy_score(y_train, simple_tree_pipe.predict(X_train))\n",
    "test_acc_log = accuracy_score(y_test, simple_tree_pipe.predict(X_test))\n",
    "\n",
    "print(\"Logistic Regression Train Accuracy:\", train_acc_log)\n",
    "print(\"Logistic Regression Test Accuracy:\", test_acc_log)"
   ]
  },
  {
   "cell_type": "markdown",
   "metadata": {},
   "source": [
    "### Problem 10: Model Comparisons\n",
    "\n",
    "Now, we aim to compare the performance of the Logistic Regression model to our KNN algorithm, Decision Tree, and SVM models.  Using the default settings for each of the models, fit and score each.  Also, be sure to compare the fit time of each of the models.  Present your findings in a `DataFrame` similar to that below:\n",
    "\n",
    "| Model | Train Time | Train Accuracy | Test Accuracy |\n",
    "| ----- | ---------- | -------------  | -----------   |\n",
    "|     |    |.     |.     |"
   ]
  },
  {
   "cell_type": "markdown",
   "metadata": {},
   "source": [
    "**Purpose:** In this section, we introduce 4 classification models: KNN, Logistic Regresion, SVC, and Decision Tree. All hyperparameters are set as default."
   ]
  },
  {
   "cell_type": "code",
   "execution_count": 28,
   "metadata": {},
   "outputs": [],
   "source": [
    "# Define the models and hyperparameters\n",
    "defaut_models = {\n",
    "    'knn': (KNeighborsClassifier()),\n",
    "    'logisticregression': (LogisticRegression(max_iter=1000,random_state=42)),\n",
    "    'svc': (SVC()),\n",
    "    'decisiontreeclassifier': (DecisionTreeClassifier())\n",
    "}"
   ]
  },
  {
   "cell_type": "code",
   "execution_count": 29,
   "metadata": {},
   "outputs": [],
   "source": [
    "results = []\n",
    "\n",
    "for name, model in defaut_models.items():\n",
    "    # Create a pipeline\n",
    "    pipeline = Pipeline([\n",
    "        ('preprocessor', preprocessor),\n",
    "        (name, model)\n",
    "    ])\n",
    "    \n",
    "    # Fit the model and time it\n",
    "    start = time.time()\n",
    "    pipeline.fit(X_train, y_train)\n",
    "    end = time.time()\n",
    "    train_time = end - start\n",
    "    \n",
    "    # Evaluate on training and test sets\n",
    "    train_score = accuracy_score(y_train, pipeline.predict(X_train))\n",
    "    test_score = accuracy_score(y_test, pipeline.predict(X_test))\n",
    "    \n",
    "    # Append the results\n",
    "    results.append([name, train_score, test_score, train_time])"
   ]
  },
  {
   "cell_type": "code",
   "execution_count": 30,
   "metadata": {},
   "outputs": [
    {
     "data": {
      "text/html": [
       "<div>\n",
       "<style scoped>\n",
       "    .dataframe tbody tr th:only-of-type {\n",
       "        vertical-align: middle;\n",
       "    }\n",
       "\n",
       "    .dataframe tbody tr th {\n",
       "        vertical-align: top;\n",
       "    }\n",
       "\n",
       "    .dataframe thead th {\n",
       "        text-align: right;\n",
       "    }\n",
       "</style>\n",
       "<table border=\"1\" class=\"dataframe\">\n",
       "  <thead>\n",
       "    <tr style=\"text-align: right;\">\n",
       "      <th></th>\n",
       "      <th>model</th>\n",
       "      <th>train score</th>\n",
       "      <th>test score</th>\n",
       "      <th>train time</th>\n",
       "    </tr>\n",
       "  </thead>\n",
       "  <tbody>\n",
       "    <tr>\n",
       "      <th>0</th>\n",
       "      <td>knn</td>\n",
       "      <td>0.914355</td>\n",
       "      <td>0.889172</td>\n",
       "      <td>0.053012</td>\n",
       "    </tr>\n",
       "    <tr>\n",
       "      <th>1</th>\n",
       "      <td>logisticregression</td>\n",
       "      <td>0.900486</td>\n",
       "      <td>0.897184</td>\n",
       "      <td>0.454101</td>\n",
       "    </tr>\n",
       "    <tr>\n",
       "      <th>2</th>\n",
       "      <td>svc</td>\n",
       "      <td>0.906039</td>\n",
       "      <td>0.896820</td>\n",
       "      <td>39.375833</td>\n",
       "    </tr>\n",
       "    <tr>\n",
       "      <th>3</th>\n",
       "      <td>decisiontreeclassifier</td>\n",
       "      <td>0.995326</td>\n",
       "      <td>0.840131</td>\n",
       "      <td>0.218050</td>\n",
       "    </tr>\n",
       "  </tbody>\n",
       "</table>\n",
       "</div>"
      ],
      "text/plain": [
       "                    model  train score  test score  train time\n",
       "0                     knn     0.914355    0.889172    0.053012\n",
       "1      logisticregression     0.900486    0.897184    0.454101\n",
       "2                     svc     0.906039    0.896820   39.375833\n",
       "3  decisiontreeclassifier     0.995326    0.840131    0.218050"
      ]
     },
     "execution_count": 30,
     "metadata": {},
     "output_type": "execute_result"
    }
   ],
   "source": [
    "# Create the results DataFrame\n",
    "results_df = pd.DataFrame(results, columns=['model', 'train score', 'test score', 'train time'])\n",
    "results_df"
   ]
  },
  {
   "cell_type": "markdown",
   "metadata": {},
   "source": [
    "**Conclusion**: Based on the result, based model of logistic regression has the highest score, and the decision tree model has the lowest score. SVC model takes the longest time to train data."
   ]
  },
  {
   "cell_type": "markdown",
   "metadata": {},
   "source": [
    "### Problem 11: Improving the Model\n",
    "\n",
    "Now that we have some basic models on the board, we want to try to improve these.  Below, we list a few things to explore in this pursuit.\n",
    "\n",
    "- More feature engineering and exploration.  For example, should we keep the gender feature?  Why or why not?\n",
    "- Hyperparameter tuning and grid search.  All of our models have additional hyperparameters to tune and explore.  For example the number of neighbors in KNN or the maximum depth of a Decision Tree.  \n",
    "- Adjust your performance metric"
   ]
  },
  {
   "cell_type": "markdown",
   "metadata": {},
   "source": [
    "**Note**: In this section, we add hyperparameters of each classification models. For SVC model, we limit the tolerance and max_interation because it's observed to take a lot of time to train input data."
   ]
  },
  {
   "cell_type": "code",
   "execution_count": 55,
   "metadata": {},
   "outputs": [
    {
     "name": "stdout",
     "output_type": "stream",
     "text": [
      "Evaluating knn with best parameters...\n",
      "Best parameters for knn: {'knn__weights': 'uniform', 'knn__p': 1, 'knn__n_neighbors': 25}\n",
      "Total training time for knn: 163.41 seconds\n",
      "Evaluating logisticregression with best parameters...\n",
      "Best parameters for logisticregression: {'logisticregression__solver': 'saga', 'logisticregression__penalty': 'l1', 'logisticregression__class_weight': None, 'logisticregression__C': 1.0}\n",
      "Total training time for logisticregression: 47.37 seconds\n",
      "Evaluating svc with best parameters...\n"
     ]
    },
    {
     "name": "stderr",
     "output_type": "stream",
     "text": [
      "C:\\Users\\ducth\\anaconda3\\lib\\site-packages\\sklearn\\svm\\_base.py:284: ConvergenceWarning: Solver terminated early (max_iter=5000).  Consider pre-processing your data with StandardScaler or MinMaxScaler.\n",
      "  warnings.warn(\n"
     ]
    },
    {
     "name": "stdout",
     "output_type": "stream",
     "text": [
      "Best parameters for svc: {'svc__kernel': 'rbf', 'svc__gamma': 0.01, 'svc__C': 10.0}\n",
      "Total training time for svc: 230.82 seconds\n",
      "Evaluating decisiontree with best parameters...\n",
      "Best parameters for decisiontree: {'decisiontree__min_samples_split': 2, 'decisiontree__min_samples_leaf': 5, 'decisiontree__max_features': 'sqrt', 'decisiontree__max_depth': 5}\n",
      "Total training time for decisiontree: 2.66 seconds\n"
     ]
    }
   ],
   "source": [
    "# Define models and their hyperparameters\n",
    "models = {\n",
    "    'knn': (KNeighborsClassifier(), {'knn__n_neighbors': list(range(3, 31, 2)),\n",
    "                                    'knn__weights': ['uniform', 'distance'],\n",
    "                                    'knn__p': [1, 2]}),\n",
    "    'logisticregression': (LogisticRegression(max_iter=1000,random_state=42), \n",
    "                           {'logisticregression__C': np.logspace(-4, 4, 9),\n",
    "                           'logisticregression__penalty': ['l1', 'l2'], \n",
    "                           'logisticregression__solver': ['liblinear', 'saga'],\n",
    "                           'logisticregression__class_weight': [None, 'balanced']\n",
    "                           }),\n",
    "    'svc': (SVC(tol=1e-2, max_iter=5000), {'svc__C': np.logspace(-3, 3, 7),\n",
    "                    'svc__kernel': ['linear', 'rbf'],\n",
    "                     'svc__gamma': ['scale', 'auto'] + list(np.logspace(-4, 1, 6))\n",
    "                   }),\n",
    "    'decisiontree': (DecisionTreeClassifier(), \n",
    "                     {'decisiontree__max_depth': [None, 5, 10, 15, 20, 25, 30],\n",
    "                     'decisiontree__min_samples_split': [2, 5, 10, 20],\n",
    "                     'decisiontree__min_samples_leaf': [1, 2, 5, 10],\n",
    "                     'decisiontree__max_features': [None, 'sqrt', 'log2']\n",
    "                     })\n",
    "}\n",
    "results = []\n",
    "\n",
    "# Train and evaluate each model\n",
    "for name, (model, params) in models.items():\n",
    "    # Create a pipeline with StandardScaler and the model\n",
    "    pipeline = Pipeline([\n",
    "        ('preprocessor', preprocessor),\n",
    "        (name, model)\n",
    "    ])\n",
    "    \n",
    "    # Perform grid search\n",
    "    rs= RandomizedSearchCV(pipeline, params, cv=5, n_jobs=-1, scoring='accuracy',n_iter=20,random_state=42)\n",
    "    \n",
    "    # Fit the model and time it\n",
    "    print(f\"Evaluating {name} with best parameters...\")\n",
    "    start_time = time.time()\n",
    "    rs.fit(X_train, y_train)\n",
    "    fit_time = (time.time() - start_time)\n",
    "    \n",
    "    # Get the best estimator\n",
    "    best_model = rs.best_estimator_\n",
    "    \n",
    "    # Evaluate on training and test sets\n",
    "    train_score = best_model.score(X_train, y_train)\n",
    "    test_score = best_model.score(X_test, y_test)\n",
    "    print(f\"Best parameters for {name}: {rs.best_params_}\")\n",
    "    print(f\"Total training time for {name}: {fit_time:.2f} seconds\")\n",
    "    \n",
    "    # Append the results\n",
    "    results.append([name, train_score, test_score, fit_time])"
   ]
  },
  {
   "cell_type": "code",
   "execution_count": 57,
   "metadata": {},
   "outputs": [
    {
     "name": "stdout",
     "output_type": "stream",
     "text": [
      "                    train score  test score    fit time\n",
      "model                                                  \n",
      "knn                    0.904006    0.895970  163.407928\n",
      "logisticregression     0.900425    0.897669   47.374774\n",
      "svc                    0.904036    0.898155  230.824561\n",
      "decisiontree           0.899575    0.896577    2.658597\n"
     ]
    }
   ],
   "source": [
    "# Create the results DataFrame\n",
    "results_df = pd.DataFrame(results, columns=['model', 'train score', 'test score', 'fit time'])\n",
    "results_df.set_index('model', inplace=True)\n",
    "\n",
    "# Display the DataFrame\n",
    "print(results_df)"
   ]
  },
  {
   "cell_type": "markdown",
   "metadata": {},
   "source": [
    "**Conclusion**:\n",
    "- Based on the result, SVC model has the highest test score, but with the highest training time. In addition, the test score results among models are not significantly different, and they are about 90%. However, the decision tree has the lowest training time so it is the most effective model.\n",
    "- The best params of the decision tree model is\n",
    "    - 'decisiontree__min_samples_split': 2\n",
    "    - 'decisiontree__min_samples_leaf': 5\n",
    "    - 'decisiontree__max_features': 'sqrt'\n",
    "    - 'decisiontree__max_depth': 5"
   ]
  },
  {
   "cell_type": "markdown",
   "metadata": {},
   "source": [
    "### Further Studying\n",
    "\n",
    "- Ensemble Methods: Evaluate Random Forests and Gradient Boosting\n",
    "- Class Imbalance: Experiment with SMOTE, class weighting, or focal loss\n",
    "- Feature Selection: Use feature importance or recursive elimination\n",
    "- Deployment: Package the best pipeline into a REST API or batch scoring script"
   ]
  },
  {
   "cell_type": "code",
   "execution_count": null,
   "metadata": {},
   "outputs": [],
   "source": []
  }
 ],
 "metadata": {
  "kernelspec": {
   "display_name": "Python 3 (ipykernel)",
   "language": "python",
   "name": "python3"
  },
  "language_info": {
   "codemirror_mode": {
    "name": "ipython",
    "version": 3
   },
   "file_extension": ".py",
   "mimetype": "text/x-python",
   "name": "python",
   "nbconvert_exporter": "python",
   "pygments_lexer": "ipython3",
   "version": "3.9.12"
  },
  "widgets": {
   "application/vnd.jupyter.widget-state+json": {
    "state": {},
    "version_major": 2,
    "version_minor": 0
   }
  }
 },
 "nbformat": 4,
 "nbformat_minor": 4
}
